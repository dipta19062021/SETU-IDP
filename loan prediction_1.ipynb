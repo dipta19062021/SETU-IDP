{
 "cells": [
  {
   "cell_type": "code",
   "execution_count": 1,
   "id": "958668e0",
   "metadata": {
    "execution": {
     "iopub.execute_input": "2024-07-26T14:11:20.569461Z",
     "iopub.status.busy": "2024-07-26T14:11:20.569006Z",
     "iopub.status.idle": "2024-07-26T14:12:16.722422Z",
     "shell.execute_reply": "2024-07-26T14:12:16.721114Z"
    }
   },
   "outputs": [
    {
     "ename": "ModuleNotFoundError",
     "evalue": "No module named 'aquire_data_from_setu'",
     "output_type": "error",
     "traceback": [
      "\u001b[1;31m---------------------------------------------------------------------------\u001b[0m",
      "\u001b[1;31mModuleNotFoundError\u001b[0m                       Traceback (most recent call last)",
      "Cell \u001b[1;32mIn[1], line 1\u001b[0m\n\u001b[1;32m----> 1\u001b[0m \u001b[38;5;28;01mfrom\u001b[39;00m \u001b[38;5;21;01maquire_data_from_setu\u001b[39;00m \u001b[38;5;28;01mimport\u001b[39;00m default_prediction_of_loan\n\u001b[0;32m      2\u001b[0m \u001b[38;5;28;01mfrom\u001b[39;00m \u001b[38;5;21;01maquire_data_from_setu\u001b[39;00m \u001b[38;5;28;01mimport\u001b[39;00m city_and_tier\n\u001b[0;32m      4\u001b[0m \u001b[38;5;28;01mfrom\u001b[39;00m \u001b[38;5;21;01maquire_data_from_setu\u001b[39;00m \u001b[38;5;28;01mimport\u001b[39;00m my_DataSet\n",
      "\u001b[1;31mModuleNotFoundError\u001b[0m: No module named 'aquire_data_from_setu'"
     ]
    }
   ],
   "source": [
    "from aquire_data_from_setu import default_prediction_of_loan\n",
    "from aquire_data_from_setu import city_and_tier\n",
    "\n",
    "from aquire_data_from_setu import my_DataSet\n",
    "\n",
    "\n",
    "import pandas as pd\n",
    "df = default_prediction_of_loan()\n",
    "\n",
    "print(f\"Top rows of the CSV file:\\n\", df.head())\n",
    "\n",
    "\n",
    "\n",
    "print(f\"The information collected about each attribute:\\n\", df.info())\n",
    "#print( df.shape())\n",
    "print(f\"The statistical information collected about attributes:\\n\",df.describe())\n",
    "print(\" The frequencies of each data points:\\n\", df.value_counts())"
   ]
  },
  {
   "cell_type": "code",
   "execution_count": null,
   "id": "dbff286a",
   "metadata": {},
   "outputs": [],
   "source": []
  }
 ],
 "metadata": {
  "kernelspec": {
   "display_name": "Python 3 (ipykernel)",
   "language": "python",
   "name": "python3"
  },
  "language_info": {
   "codemirror_mode": {
    "name": "ipython",
    "version": 3
   },
   "file_extension": ".py",
   "mimetype": "text/x-python",
   "name": "python",
   "nbconvert_exporter": "python",
   "pygments_lexer": "ipython3",
   "version": "3.11.5"
  }
 },
 "nbformat": 4,
 "nbformat_minor": 5
}
